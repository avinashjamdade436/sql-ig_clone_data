{
  "nbformat": 4,
  "nbformat_minor": 0,
  "metadata": {
    "colab": {
      "provenance": [],
      "include_colab_link": true
    },
    "kernelspec": {
      "name": "python3",
      "display_name": "Python 3"
    },
    "language_info": {
      "name": "python"
    }
  },
  "cells": [
    {
      "cell_type": "markdown",
      "metadata": {
        "id": "view-in-github",
        "colab_type": "text"
      },
      "source": [
        "<a href=\"https://colab.research.google.com/github/avinashjamdade436/sql-ig_clone_data/blob/main/Avinashpyl1odinschool.ipynb\" target=\"_parent\"><img src=\"https://colab.research.google.com/assets/colab-badge.svg\" alt=\"Open In Colab\"/></a>"
      ]
    },
    {
      "cell_type": "code",
      "execution_count": null,
      "metadata": {
        "id": "x5Ohz9E08X1E"
      },
      "outputs": [],
      "source": [
        "# All of these tasks are supposed to be done using python only. Please use google colab or jupyter notebook to do all tasks."
      ]
    },
    {
      "cell_type": "markdown",
      "source": [
        "Q1: You are working in a bank, and you have been given two lists of the employees who worked in 2021. Employees’ names in list 1 are Ramesh, Suresh, Mahesh, Ali, Jacob, and Saritha. List 2 contains the names of Ali, Mukesh, Mahesh, Jacob, Sai, and Sarita. Please write a program that helps to identify people who are common in both lists. Please do not use any in-built function. "
      ],
      "metadata": {
        "id": "gQeG7uYS85OV"
      }
    },
    {
      "cell_type": "code",
      "source": [
        "l1 = [\"Ramesh\", \"Suresh\", \"Mahesh\", \"Ali\", \"Jacob\", \"Saritha\"] # list 1\n",
        "l2 = [\"Ali\", \"Mukesh\", \"Mahesh\", \"Jacob\", \"Sai\", \"Sarita\"]  #list 2\n",
        "l3 = []                                               #empty list\n",
        "for i in l1:\n",
        "  for x in l2:\n",
        "    if i == x:\n",
        "      l3.append(i)\n",
        "    else:  \n",
        "      continue\n",
        "print(l3)\n",
        "    "
      ],
      "metadata": {
        "colab": {
          "base_uri": "https://localhost:8080/"
        },
        "id": "M0zwJjP282d8",
        "outputId": "a1cbe55f-f51f-49ff-c154-1c8412eef6e4"
      },
      "execution_count": null,
      "outputs": [
        {
          "output_type": "stream",
          "name": "stdout",
          "text": [
            "['Mahesh', 'Ali', 'Jacob']\n"
          ]
        }
      ]
    },
    {
      "cell_type": "markdown",
      "source": [
        "Q2: While entering data, someone entered a few names as a common string “Ramesh Suresh Mohit”. Please write a program which separates all the names and converts them into a list. Once converted into a list, please write a program that adds their age. \n",
        "\n",
        "Ramesh:  25\n",
        "\n",
        "Suresh: 22\n",
        "\n",
        "Mohit: 26"
      ],
      "metadata": {
        "id": "5MMJqaHyCf4n"
      }
    },
    {
      "cell_type": "code",
      "source": [
        "c_string = \"Ramesh Suresh Mohit\" # common string\n",
        "a_string = c_string.split() # separates all the names and converts them into a list.\n",
        "print(a_string)\n",
        "#print(type(a_string))"
      ],
      "metadata": {
        "colab": {
          "base_uri": "https://localhost:8080/"
        },
        "id": "jm7WiUj5Cg1W",
        "outputId": "ac3da6b6-38ec-40ac-a8b3-3426e97db0b0"
      },
      "execution_count": null,
      "outputs": [
        {
          "output_type": "stream",
          "name": "stdout",
          "text": [
            "['Ramesh', 'Suresh', 'Mohit']\n"
          ]
        }
      ]
    },
    {
      "cell_type": "code",
      "source": [
        "b_string = {}   # created a empty dictionary \n",
        "additn = 0\n",
        "for i in a_string:  \n",
        "  age = int(input(f\"enter the age of {i} :\"))\n",
        "  b_string[i] = age\n",
        "  additn = additn + age\n",
        "#print(b_string.values())\n",
        "print(b_string)\n",
        "#print(type(b_string))\n",
        "print(additn)           #25,22,26\n",
        "  "
      ],
      "metadata": {
        "colab": {
          "base_uri": "https://localhost:8080/"
        },
        "id": "IyR2-hbKErCP",
        "outputId": "7e2e3935-ed8a-4c4c-88c1-e1b6da80f72c"
      },
      "execution_count": null,
      "outputs": [
        {
          "output_type": "stream",
          "name": "stdout",
          "text": [
            "enter the age of Ramesh :25\n",
            "enter the age of Suresh :22\n",
            "enter the age of Mohit :26\n",
            "{'Ramesh': 25, 'Suresh': 22, 'Mohit': 26}\n",
            "73\n"
          ]
        }
      ]
    },
    {
      "cell_type": "markdown",
      "source": [
        "Q3: You are working in a medical store. A patient came to your medical store and asked to buy 2 strips of paracetamol, 3 strips of azithromycin, and 5 strips of Vitamin C. One strip of paracetamol costs Rs 35, one strip of azithromycin costs Rs 49, and one strip of vitamin c costs Rs. 33. Patient gave you Rs 2000. Please tell us what is the total cost of each medicine, the total cost of all medicine, and how much money you refunded to the patient. "
      ],
      "metadata": {
        "id": "KW2OmuNfJKBt"
      }
    },
    {
      "cell_type": "code",
      "source": [
        "df = {'paracetamol':35 , 'azithromycin':49 , 'Vitamin_C':33} #order of patient in dictionary={'name of medicine':price/strip}\n",
        "print(df)\n",
        "#print(type(df))\n",
        "#df['paracetamol'] = input(\"The price per strip for paracetamol is:\")\n",
        "#df['azithromycin'] = input(\"The price per strip for azithromycin is:\")\n",
        "#df['Vitamin_C'] = input(\"The price per strip for Vitamin_C is:\")"
      ],
      "metadata": {
        "colab": {
          "base_uri": "https://localhost:8080/"
        },
        "id": "pL_hHSrUKIrM",
        "outputId": "ecc5e90e-3ebd-401c-ae62-df86d57e1b88"
      },
      "execution_count": null,
      "outputs": [
        {
          "output_type": "stream",
          "name": "stdout",
          "text": [
            "{'paracetamol': 35, 'azithromycin': 49, 'Vitamin_C': 33}\n"
          ]
        }
      ]
    },
    {
      "cell_type": "code",
      "source": [
        "price = list(df.values()) # check the values in order quantity stored in variable quantity\n",
        "item = list(df.keys())\n",
        "print(price)\n",
        "print(item)\n",
        "#print(type(price))"
      ],
      "metadata": {
        "colab": {
          "base_uri": "https://localhost:8080/"
        },
        "id": "vhYe4xBiLjmy",
        "outputId": "eed4e5a6-a43f-4eea-a023-613b5144efa0"
      },
      "execution_count": null,
      "outputs": [
        {
          "output_type": "stream",
          "name": "stdout",
          "text": [
            "[35, 49, 33]\n",
            "['paracetamol', 'azithromycin', 'Vitamin_C']\n"
          ]
        }
      ]
    },
    {
      "cell_type": "code",
      "source": [
        "order = {}\n",
        "quantity = [2,3,5] # price \n",
        "total = 0\n",
        "for i in range(len(price)):\n",
        "  total = total + quantity[i]*price[i]\n",
        "  print(f\"Total price for{item[i]} is {quantity[i]} * {price[i]} : \",quantity[i]*price[i])\n",
        "print(\"Total amount for order is: \",total)"
      ],
      "metadata": {
        "colab": {
          "base_uri": "https://localhost:8080/"
        },
        "id": "_rV9tYByL8_j",
        "outputId": "ea28b178-2006-46c8-f9b5-38f77d185431"
      },
      "execution_count": null,
      "outputs": [
        {
          "output_type": "stream",
          "name": "stdout",
          "text": [
            "Total price forparacetamol is 2 * 35 :  70\n",
            "Total price forazithromycin is 3 * 49 :  147\n",
            "Total price forVitamin_C is 5 * 33 :  165\n",
            "Total amount for order is:  382\n"
          ]
        }
      ]
    },
    {
      "cell_type": "code",
      "source": [
        "amt_paid = 2000\n",
        "rem = (amt_paid - total)\n",
        "print(\"Total amount for order is: \",total,\"\\nPaid amount is : \",amt_paid,\"\\nRemaining amount is :\" ,rem)"
      ],
      "metadata": {
        "colab": {
          "base_uri": "https://localhost:8080/"
        },
        "id": "8pfMt6P9ZCO5",
        "outputId": "8bedba90-a022-49cd-b5a7-32fb0f63cdb0"
      },
      "execution_count": null,
      "outputs": [
        {
          "output_type": "stream",
          "name": "stdout",
          "text": [
            "Total amount for order is:  382 \n",
            "Paid amount is :  2000 \n",
            "Remaining amount is : 1618\n"
          ]
        }
      ]
    },
    {
      "cell_type": "markdown",
      "source": [
        "Q4: Accept a sentence as input and find the number of vowels in it. Assume that the sentence has no punctuation marks. For example, I am learning python contains 6 vowels. This function should be applicable for all other different sentences."
      ],
      "metadata": {
        "id": "wWCCLvdtjLxU"
      }
    },
    {
      "cell_type": "code",
      "source": [
        "a_sen = input(\"Enter your Sentence : \") # accepting a sentence as input\n",
        "# a_sen = \"I am learning python\"\n",
        "a_sen = a_sen.strip()\n",
        "a_sen = list(a_sen.lower())\n",
        "# print(a_sen)\n",
        "s = set()\n",
        "sum = 0\n",
        "l1 = [\"a\",\"e\",\"i\",\"o\",\"u\"]\n",
        "if l1 or a_sen == True:\n",
        "  print(\"This sentence contains vowels\")\n",
        "  for i in a_sen:\n",
        "    if i in \"aeiou\":\n",
        "      s.add(i)\n",
        "    else:\n",
        "      continue\n",
        "  for x in s:\n",
        "    print(f''' \"{x}\"  :''' , a_sen.count(x))\n",
        "    sum = sum + a_sen.count(x)\n",
        "else:\n",
        "  print(\"no vowels\")\n",
        "\n",
        "\n",
        "print(\"Total vowels present are : \" ,sum)\n",
        "# print(\"Vowels are: \" ,s)  #I am learning python"
      ],
      "metadata": {
        "colab": {
          "base_uri": "https://localhost:8080/"
        },
        "id": "GPKsfJXnjSfm",
        "outputId": "ca3aa5b7-1320-4821-fc90-ab3fc0fe58e7"
      },
      "execution_count": null,
      "outputs": [
        {
          "output_type": "stream",
          "name": "stdout",
          "text": [
            "Enter your Sentence : avinash\n",
            "This sentence contains vowels\n",
            " \"a\"  : 2\n",
            " \"i\"  : 1\n",
            "Total vowels present are :  3\n"
          ]
        }
      ]
    },
    {
      "cell_type": "code",
      "source": [
        "# c = []\n",
        "def check_vowels (a):\n",
        "  a = a.lower()\n",
        "  a = a.strip()\n",
        "  c = []\n",
        "  if l1 or a == True:\n",
        "    for i in a:\n",
        "      if i in [\"a\",\"e\",\"i\",\"o\",\"u\"]:\n",
        "        c.append(i)\n",
        "      else:\n",
        "        continue\n",
        "    d = set(c)\n",
        "    for j in d:\n",
        "      print(f'''Count of \"{j}\" :''' , c.count(j))\n",
        "  print(\"Total vowels present are : \" ,len(c))\n",
        "  print(f'''The vowels present in string \"{a}\" are :''' , c)\n",
        "  print(\"vowels present are :\" ,d)\n",
        "\n",
        "check_vowels(\"I am learning python\")"
      ],
      "metadata": {
        "id": "Pe95fduRkU8C",
        "colab": {
          "base_uri": "https://localhost:8080/"
        },
        "outputId": "aac7e92c-3929-4f50-e15d-2d70cbfbd982"
      },
      "execution_count": null,
      "outputs": [
        {
          "output_type": "stream",
          "name": "stdout",
          "text": [
            "Count of \"o\" : 1\n",
            "Count of \"a\" : 2\n",
            "Count of \"i\" : 2\n",
            "Count of \"e\" : 1\n",
            "Total vowels present are :  6\n",
            "The vowels present in string \"i am learning python\" are : ['i', 'a', 'e', 'a', 'i', 'o']\n",
            "vowels present are : {'o', 'a', 'i', 'e'}\n"
          ]
        }
      ]
    },
    {
      "cell_type": "code",
      "source": [],
      "metadata": {
        "id": "MuRu2rO7QsyL"
      },
      "execution_count": null,
      "outputs": []
    },
    {
      "cell_type": "code",
      "source": [],
      "metadata": {
        "id": "nW9TTE4pQs0x"
      },
      "execution_count": null,
      "outputs": []
    },
    {
      "cell_type": "markdown",
      "source": [
        "Q5: You have been appointed by the election commission to create a website. Your first task is to work on a program which tells candidates if they are eligible for voting or not. If they are eligible, your output should be ‘Congrats! You are eligible’; otherwise, it should tell that you have to return after X number of years. The eligibility criteria for voting is 18 years. \n",
        "\n",
        "For example, If someone is 18 or above, your output should be ‘Congrats! You are eligible’. If someone’s age is 15 years, it should print output as ‘return after 3 years’.   "
      ],
      "metadata": {
        "id": "VcuN26xDQs96"
      }
    },
    {
      "cell_type": "code",
      "source": [
        "age = int(input(\"Enter your age : \")) # Input from user\n",
        "if age >= 18:\n",
        "  print(\"Congrats! You are eligible\")\n",
        "else:\n",
        "  print(\"The eligibility criteria for Voting is 18 Yeares of age.\",\"\\nYou are not eligible for Voting\")\n",
        "  print(f\"Return after {18-age} years\")\n"
      ],
      "metadata": {
        "colab": {
          "base_uri": "https://localhost:8080/"
        },
        "id": "DQ__ivJ_Q1EJ",
        "outputId": "c5bef547-8506-4b15-e9c9-c0fefe60968f"
      },
      "execution_count": null,
      "outputs": [
        {
          "output_type": "stream",
          "name": "stdout",
          "text": [
            "Enter your age : 12\n",
            "The eligibility criteria for Voting is 18 Yeares of age. \n",
            "You are not eligible for Voting\n",
            "Return after 6 years\n"
          ]
        }
      ]
    },
    {
      "cell_type": "code",
      "source": [],
      "metadata": {
        "id": "YdIsqb5bTWr5"
      },
      "execution_count": null,
      "outputs": []
    },
    {
      "cell_type": "code",
      "source": [],
      "metadata": {
        "id": "JUukiiYmTW0o"
      },
      "execution_count": null,
      "outputs": []
    },
    {
      "cell_type": "markdown",
      "source": [
        "Q6: Longest Increasing Subsequence\n",
        "\n",
        "*The task is to find the length of the longest subsequence in a given array of integers such that all elements of the subsequence are sorted in strictly ascending order. This is called the Longest Increasing Subsequence (LIS) problem.*\n",
        "\n",
        "\n",
        "Given an unsorted array of integers, find the length of the longest increasing subsequence (LIS).\n",
        "\n",
        "Example:\n",
        "\n",
        "Input: [10,9,2,5,3,7,101,18]\n",
        "\n",
        "Output: 4"
      ],
      "metadata": {
        "id": "LA3uEOYgTW_C"
      }
    },
    {
      "cell_type": "code",
      "source": [
        "# 10 - [10,101] = 2\n",
        "# 9 - [9, 101] = 2\n",
        "# 2 - [2, 5, 7, 101] = 4\n",
        "# 5 - [5, 7, 101] = 3\n",
        "# 3 - [3, 7, 101] = 3\n",
        "# 7 -  [7, 101] = 2\n",
        "# 101 - [101] = 1\n",
        "# 18 - [18] = 1"
      ],
      "metadata": {
        "id": "5AOwAyzuA_gQ"
      },
      "execution_count": null,
      "outputs": []
    },
    {
      "cell_type": "code",
      "source": [
        "# arr = list(int(input()))\n",
        "arr = [10,9,2,5,3,7,101,18]\n",
        "sub_arr = []\n",
        "sum_lst = []\n",
        "for i in range(len(arr)): # for i in renge of 0-6\n",
        "  sum = 1\n",
        "  target = arr[i]       # target is our no from list arr[]\n",
        "  temp_subarr = []    # temp subbarray to store the subsequence starting from arr[i] \n",
        "  temp_subarr.append(arr[i])\n",
        "  # print(i)\n",
        "  for j in range(i, len(arr)):\n",
        "    if target < arr[j]:     # target is less than arr[j] i.e, it will take next consecutive member in array to check condition with,e.g,10<9 = false until 10<101 = true\n",
        "      print(\"i : \",i)\n",
        "      print(\"j : \",j)\n",
        "      temp_subarr.append(arr[j])\n",
        "      print(\"temp_subarr : \",temp_subarr)\n",
        "      sum+=1           # to check how many itterations take for that no\n",
        "      target = arr[j]  # changing the value of target to next no.\n",
        "  sub_arr.append(temp_subarr)\n",
        "  print(\"sub_arr : \",sub_arr)\n",
        "  print(\"sum : \", sum)\n",
        "  sum_lst.append(sum)     # to check the maximum of all the sequences from list sum_lst\n",
        "  print(\"*************************************************\\n\")\n",
        "print(\"Length of Longest Increasing Subsequence is :\", max(sum_lst))"
      ],
      "metadata": {
        "colab": {
          "base_uri": "https://localhost:8080/"
        },
        "id": "ThQINvQ3HzaI",
        "outputId": "2f90d501-79dc-414b-be73-ad497f4c3617"
      },
      "execution_count": null,
      "outputs": [
        {
          "output_type": "stream",
          "name": "stdout",
          "text": [
            "i :  0\n",
            "j :  6\n",
            "temp_subarr :  [10, 101]\n",
            "sub_arr :  [[10, 101]]\n",
            "sum :  2\n",
            "*************************************************\n",
            "\n",
            "i :  1\n",
            "j :  6\n",
            "temp_subarr :  [9, 101]\n",
            "sub_arr :  [[10, 101], [9, 101]]\n",
            "sum :  2\n",
            "*************************************************\n",
            "\n",
            "i :  2\n",
            "j :  3\n",
            "temp_subarr :  [2, 5]\n",
            "i :  2\n",
            "j :  5\n",
            "temp_subarr :  [2, 5, 7]\n",
            "i :  2\n",
            "j :  6\n",
            "temp_subarr :  [2, 5, 7, 101]\n",
            "sub_arr :  [[10, 101], [9, 101], [2, 5, 7, 101]]\n",
            "sum :  4\n",
            "*************************************************\n",
            "\n",
            "i :  3\n",
            "j :  5\n",
            "temp_subarr :  [5, 7]\n",
            "i :  3\n",
            "j :  6\n",
            "temp_subarr :  [5, 7, 101]\n",
            "sub_arr :  [[10, 101], [9, 101], [2, 5, 7, 101], [5, 7, 101]]\n",
            "sum :  3\n",
            "*************************************************\n",
            "\n",
            "i :  4\n",
            "j :  5\n",
            "temp_subarr :  [3, 7]\n",
            "i :  4\n",
            "j :  6\n",
            "temp_subarr :  [3, 7, 101]\n",
            "sub_arr :  [[10, 101], [9, 101], [2, 5, 7, 101], [5, 7, 101], [3, 7, 101]]\n",
            "sum :  3\n",
            "*************************************************\n",
            "\n",
            "i :  5\n",
            "j :  6\n",
            "temp_subarr :  [7, 101]\n",
            "sub_arr :  [[10, 101], [9, 101], [2, 5, 7, 101], [5, 7, 101], [3, 7, 101], [7, 101]]\n",
            "sum :  2\n",
            "*************************************************\n",
            "\n",
            "sub_arr :  [[10, 101], [9, 101], [2, 5, 7, 101], [5, 7, 101], [3, 7, 101], [7, 101], [101]]\n",
            "sum :  1\n",
            "*************************************************\n",
            "\n",
            "sub_arr :  [[10, 101], [9, 101], [2, 5, 7, 101], [5, 7, 101], [3, 7, 101], [7, 101], [101], [18]]\n",
            "sum :  1\n",
            "*************************************************\n",
            "\n",
            "Length of Longest Increasing Subsequence is : 4\n"
          ]
        }
      ]
    }
  ]
}